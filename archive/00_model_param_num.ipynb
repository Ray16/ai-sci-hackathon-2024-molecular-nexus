{
 "cells": [
  {
   "cell_type": "code",
   "execution_count": 1,
   "id": "cd4f7cea-1671-4c78-9ab4-56f5c699ff56",
   "metadata": {},
   "outputs": [],
   "source": [
    "from src.model import CGConvNet, GATNet\n",
    "import numpy as np"
   ]
  },
  {
   "cell_type": "code",
   "execution_count": 2,
   "id": "76dc6e55-a019-41e1-b1c5-5eb8817f83de",
   "metadata": {},
   "outputs": [],
   "source": [
    "model = CGConvNet(128,0.005)"
   ]
  },
  {
   "cell_type": "code",
   "execution_count": 3,
   "id": "8e7efb8a-f2d9-425b-994a-5198d0e3e73a",
   "metadata": {},
   "outputs": [
    {
     "data": {
      "text/plain": [
       "5102"
      ]
     },
     "execution_count": 3,
     "metadata": {},
     "output_type": "execute_result"
    }
   ],
   "source": [
    "trainable_params = sum(\n",
    "\tp.numel() for p in model.parameters() if p.requires_grad\n",
    ")\n",
    "trainable_params"
   ]
  },
  {
   "cell_type": "code",
   "execution_count": 4,
   "id": "5a1623bc-5b28-4e02-900a-8f91a2c6f088",
   "metadata": {},
   "outputs": [],
   "source": [
    "model = GATNet(32,4,32,4,0.005)"
   ]
  },
  {
   "cell_type": "code",
   "execution_count": 5,
   "id": "eef21461-27aa-464d-9bf1-539d01e10bea",
   "metadata": {},
   "outputs": [
    {
     "data": {
      "text/plain": [
       "5700"
      ]
     },
     "execution_count": 5,
     "metadata": {},
     "output_type": "execute_result"
    }
   ],
   "source": [
    "trainable_params = sum(\n",
    "\tp.numel() for p in model.parameters() if p.requires_grad\n",
    ")\n",
    "trainable_params"
   ]
  },
  {
   "cell_type": "code",
   "execution_count": null,
   "id": "84e71a47-bf2b-4e31-a623-b84a1182aeb0",
   "metadata": {},
   "outputs": [],
   "source": []
  }
 ],
 "metadata": {
  "kernelspec": {
   "display_name": "Python 3 (ipykernel)",
   "language": "python",
   "name": "python3"
  },
  "language_info": {
   "codemirror_mode": {
    "name": "ipython",
    "version": 3
   },
   "file_extension": ".py",
   "mimetype": "text/x-python",
   "name": "python",
   "nbconvert_exporter": "python",
   "pygments_lexer": "ipython3",
   "version": "3.12.3"
  }
 },
 "nbformat": 4,
 "nbformat_minor": 5
}
