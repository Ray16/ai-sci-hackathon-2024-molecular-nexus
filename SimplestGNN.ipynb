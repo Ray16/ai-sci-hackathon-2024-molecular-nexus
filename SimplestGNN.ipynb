{
 "cells": [
  {
   "cell_type": "code",
   "execution_count": 1,
   "id": "8350ed9c-e310-40ce-a17f-2dcff841800d",
   "metadata": {},
   "outputs": [],
   "source": [
    "import torch\n",
    "import torch.nn as nn\n",
    "import torch.nn.functional as F"
   ]
  },
  {
   "cell_type": "code",
   "execution_count": 4,
   "id": "06da63f3-c4ba-4db4-b20c-71c4962aa314",
   "metadata": {},
   "outputs": [
    {
     "data": {
      "text/plain": [
       "<networkx.classes.graph.Graph at 0x7f0c6e28dbe0>"
      ]
     },
     "execution_count": 4,
     "metadata": {},
     "output_type": "execute_result"
    }
   ],
   "source": [
    "import helper\n",
    "\n",
    "train_data = helper.load_data_from_file(\"data.json\")\n",
    "graph_nx = train_data[list(train_data.keys())[0]]\n",
    "graph_nx"
   ]
  },
  {
   "cell_type": "code",
   "execution_count": 5,
   "id": "c7722f39-86b1-462c-9418-82b5ebd97004",
   "metadata": {},
   "outputs": [],
   "source": [
    "from src.model import GATNet\n",
    "from src.data import GraphDataset\n",
    "\n",
    "from torch_geometric.loader import DataLoader"
   ]
  },
  {
   "cell_type": "code",
   "execution_count": 15,
   "id": "42cfb575-fb7d-452d-93a3-76852a04e2c2",
   "metadata": {},
   "outputs": [],
   "source": [
    "# load dataset into dataloader\n",
    "dataset = GraphDataset(root='./dataset/')\n",
    "loader = DataLoader(dataset, batch_size=32, shuffle=True, num_workers=64)"
   ]
  },
  {
   "cell_type": "code",
   "execution_count": null,
   "id": "2fe41cd0-7132-4371-9f66-d7ad43aa395a",
   "metadata": {},
   "outputs": [],
   "source": []
  }
 ],
 "metadata": {
  "kernelspec": {
   "display_name": "Python 3 (ipykernel)",
   "language": "python",
   "name": "python3"
  },
  "language_info": {
   "codemirror_mode": {
    "name": "ipython",
    "version": 3
   },
   "file_extension": ".py",
   "mimetype": "text/x-python",
   "name": "python",
   "nbconvert_exporter": "python",
   "pygments_lexer": "ipython3",
   "version": "3.12.3"
  }
 },
 "nbformat": 4,
 "nbformat_minor": 5
}
